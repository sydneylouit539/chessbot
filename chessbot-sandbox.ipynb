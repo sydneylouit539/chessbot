{
 "cells": [
  {
   "cell_type": "code",
   "execution_count": 1,
   "id": "ab1f820f",
   "metadata": {},
   "outputs": [
    {
     "name": "stdout",
     "output_type": "stream",
     "text": [
      "Collecting python-chess\n",
      "  Downloading python_chess-1.999-py3-none-any.whl (1.4 kB)\n",
      "Collecting chess<2,>=1\n",
      "  Downloading chess-1.10.0-py3-none-any.whl (154 kB)\n",
      "     -------------------------------------- 154.4/154.4 kB 1.8 MB/s eta 0:00:00\n",
      "Installing collected packages: chess, python-chess\n",
      "Successfully installed chess-1.10.0 python-chess-1.999\n",
      "Note: you may need to restart the kernel to use updated packages.\n"
     ]
    },
    {
     "name": "stderr",
     "output_type": "stream",
     "text": [
      "WARNING: Ignoring invalid distribution -ip (c:\\programdata\\anaconda3\\lib\\site-packages)\n",
      "WARNING: Ignoring invalid distribution -ip (c:\\programdata\\anaconda3\\lib\\site-packages)\n",
      "WARNING: Ignoring invalid distribution -ip (c:\\programdata\\anaconda3\\lib\\site-packages)\n",
      "WARNING: Ignoring invalid distribution -ip (c:\\programdata\\anaconda3\\lib\\site-packages)\n",
      "WARNING: Ignoring invalid distribution -ip (c:\\programdata\\anaconda3\\lib\\site-packages)\n",
      "WARNING: Ignoring invalid distribution -ip (c:\\programdata\\anaconda3\\lib\\site-packages)\n",
      "WARNING: Ignoring invalid distribution -ip (c:\\programdata\\anaconda3\\lib\\site-packages)\n",
      "WARNING: Ignoring invalid distribution -ip (c:\\programdata\\anaconda3\\lib\\site-packages)\n"
     ]
    }
   ],
   "source": [
    "pip install python-chess"
   ]
  },
  {
   "cell_type": "code",
   "execution_count": 130,
   "id": "4a2f4603",
   "metadata": {},
   "outputs": [
    {
     "name": "stdout",
     "output_type": "stream",
     "text": [
      "Game 10 Result: 1/2-1/2\n",
      "Game 20 Result: 1/2-1/2\n",
      "Game 30 Result: 1/2-1/2\n",
      "Game 40 Result: 1/2-1/2\n",
      "Game 50 Result: 1/2-1/2\n",
      "Game 60 Result: 1/2-1/2\n",
      "Game 70 Result: 1/2-1/2\n",
      "Game 80 Result: 1-0\n",
      "Game 90 Result: 1-0\n",
      "Game 100 Result: 1/2-1/2\n"
     ]
    },
    {
     "data": {
      "text/plain": [
       "0.635"
      ]
     },
     "execution_count": 130,
     "metadata": {},
     "output_type": "execute_result"
    }
   ],
   "source": [
    "import chess\n",
    "import random\n",
    "import numpy as np\n",
    "#def main():\n",
    "random.seed(123)\n",
    "\n",
    "def sim_game(nsim):\n",
    "    result = np.zeros(nsim)\n",
    "    for i in range(nsim):\n",
    "        board = chess.Board()\n",
    "        while not board.is_game_over():\n",
    "            legal_moves = list(board.legal_moves)\n",
    "            #print(\"Legal moves:\", [move.uci() for move in legal_moves])\n",
    "        \n",
    "            #user_move = input(\"Enter your move (e.g., 'e2e4'): \")\n",
    "        \n",
    "            try:\n",
    "                ## User-generated move\n",
    "                #move = chess.Move.from_uci(user_move)\n",
    "                if board.legal_moves.count() == 0:\n",
    "                    #print(board.result)\n",
    "                    break\n",
    "                ## Random user move\n",
    "                #user_move = random.choice(list(board.legal_moves))\n",
    "                ## Engine move\n",
    "                user_move = next_move(board)\n",
    "                #print(user_move)\n",
    "                board.push(user_move)\n",
    "\n",
    "                #if move in legal_moves:\n",
    "                    #board.push(move)\n",
    "                    #print(board)\n",
    "                \n",
    "                ## Make a random move for the computer\n",
    "                if board.legal_moves.count() == 0:\n",
    "                    #print(board.result)\n",
    "                    break\n",
    "                computer_move = random.choice(list(board.legal_moves))\n",
    "                board.push(computer_move)\n",
    "                #print(\"Computer's move:\", computer_move.uci())\n",
    "                #print(board)\n",
    "                #else:\n",
    "                #    print(\"Invalid move. Try again.\")\n",
    "            except ValueError:\n",
    "                print(\"Invalid move format. Try again.\")\n",
    "        if board.result().partition('-')[0] == '1/2':\n",
    "            result[i] = 0.5\n",
    "        else:\n",
    "            result[i] = board.result().partition('-')[0]\n",
    "        if (i+1) % 10 == 0:\n",
    "            print(f\"Game {i+1} Result: {board.result()}\")\n",
    "    return np.mean(result)\n",
    "    \n",
    "sim_game(100)\n",
    "#if __name__ == \"__main__\":\n",
    "#    main()"
   ]
  },
  {
   "cell_type": "code",
   "execution_count": 43,
   "id": "e3403e9b",
   "metadata": {},
   "outputs": [
    {
     "data": {
      "text/plain": [
       "<LegalMoveGenerator at 0x15d3d7e4460 (Nh3, Nf3, Nc3, Na3, h3, g3, f3, e3, d3, c3, b3, a3, h4, g4, f4, e4, d4, c4, b4, a4)>"
      ]
     },
     "execution_count": 43,
     "metadata": {},
     "output_type": "execute_result"
    }
   ],
   "source": [
    "import chess\n",
    "board = chess.Board()\n",
    "chess.LegalMoveGenerator(board)"
   ]
  },
  {
   "cell_type": "code",
   "execution_count": 104,
   "id": "d867e3b7",
   "metadata": {},
   "outputs": [
    {
     "data": {
      "text/plain": [
       "'*'"
      ]
     },
     "execution_count": 104,
     "metadata": {},
     "output_type": "execute_result"
    }
   ],
   "source": [
    "board.result()"
   ]
  },
  {
   "cell_type": "code",
   "execution_count": 35,
   "id": "2705a36b",
   "metadata": {},
   "outputs": [
    {
     "data": {
      "text/plain": [
       "2"
      ]
     },
     "execution_count": 35,
     "metadata": {},
     "output_type": "execute_result"
    }
   ],
   "source": [
    "chess.square_knight_distance(chess.Square(2), chess.Square(9))"
   ]
  },
  {
   "cell_type": "code",
   "execution_count": 42,
   "id": "ad7e4770",
   "metadata": {},
   "outputs": [
    {
     "name": "stdout",
     "output_type": "stream",
     "text": [
      "None\n"
     ]
    }
   ],
   "source": [
    "import chess.engine\n",
    "print(chess.engine.Score.score(board))"
   ]
  },
  {
   "cell_type": "code",
   "execution_count": 90,
   "id": "568f13f1",
   "metadata": {},
   "outputs": [],
   "source": [
    "piece_values = {\n",
    "    chess.PAWN: 1,\n",
    "    chess.KNIGHT: 3,\n",
    "    chess.BISHOP: 3,\n",
    "    chess.ROOK: 5,\n",
    "    chess.QUEEN: 9,\n",
    "    chess.KING: 10\n",
    "    # No value for KING, as its loss results in the end of the game\n",
    "}\n",
    "\n",
    "def score_board(board):\n",
    "    score = 0\n",
    "    \n",
    "    # Iterate through all squares\n",
    "    for square in chess.SQUARES:\n",
    "        piece = board.piece_at(square)\n",
    "        if piece is not None:\n",
    "            if piece.color == chess.WHITE:\n",
    "                score += piece_values[piece.piece_type]\n",
    "            else:\n",
    "                score -= piece_values[piece.piece_type]\n",
    "    \n",
    "    return score\n",
    "\n",
    "\n",
    "def next_move(board, moves = 1):\n",
    "    moves = board.legal_moves\n",
    "    scores = []\n",
    "    for i in board.legal_moves:\n",
    "        board.push(i)\n",
    "        scores.append(score_board(board))\n",
    "        ## Undo move\n",
    "        board.pop()\n",
    "    max_value = np.max(scores)\n",
    "    max_indices = np.where(scores == max_value)[0]\n",
    "    return list(moves)[random.choice(max_indices)]\n",
    "#    return list(moves)[scores.index(max(scores))]\n",
    "\n",
    "        \n",
    "#next_move(board)"
   ]
  },
  {
   "cell_type": "code",
   "execution_count": 91,
   "id": "376a5ff8",
   "metadata": {},
   "outputs": [
    {
     "data": {
      "text/plain": [
       "Move.from_uci('e2e4')"
      ]
     },
     "execution_count": 91,
     "metadata": {},
     "output_type": "execute_result"
    }
   ],
   "source": [
    "next_move(board)"
   ]
  },
  {
   "cell_type": "code",
   "execution_count": 126,
   "id": "3efd6103",
   "metadata": {},
   "outputs": [
    {
     "data": {
      "text/plain": [
       "1"
      ]
     },
     "execution_count": 126,
     "metadata": {},
     "output_type": "execute_result"
    }
   ],
   "source": []
  },
  {
   "cell_type": "code",
   "execution_count": 129,
   "id": "4bb8e61c",
   "metadata": {},
   "outputs": [
    {
     "data": {
      "text/plain": [
       "89.88748071883535"
      ]
     },
     "execution_count": 129,
     "metadata": {},
     "output_type": "execute_result"
    }
   ],
   "source": [
    "np.log(0.6165 / (1 - 0.6165)) * 400 - 100"
   ]
  },
  {
   "cell_type": "code",
   "execution_count": null,
   "id": "2ae4bd44",
   "metadata": {},
   "outputs": [],
   "source": []
  }
 ],
 "metadata": {
  "kernelspec": {
   "display_name": "Python 3 (ipykernel)",
   "language": "python",
   "name": "python3"
  },
  "language_info": {
   "codemirror_mode": {
    "name": "ipython",
    "version": 3
   },
   "file_extension": ".py",
   "mimetype": "text/x-python",
   "name": "python",
   "nbconvert_exporter": "python",
   "pygments_lexer": "ipython3",
   "version": "3.9.15"
  }
 },
 "nbformat": 4,
 "nbformat_minor": 5
}
